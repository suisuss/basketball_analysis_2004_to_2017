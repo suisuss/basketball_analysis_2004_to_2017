{
 "cells": [
  {
   "cell_type": "markdown",
   "metadata": {
    "slideshow": {
     "slide_type": "slide"
    }
   },
   "source": [
    "#### Jacob:\n",
    "\n",
    "**Question:**\n",
    "How do player salaries compare with their performance? Does position matter? Is there a category of stats correlate the most with the salary?\n",
    "\n",
    "Performance being defined by following key performance indicators:\n",
    "\n",
    "- Points (PTS)\n",
    "- Rebounds (REB)\n",
    "- Assists (AST)\n",
    "- Steals (STL)\n",
    "- Blocks (BLK)\n",
    "- Turnovers (TOV)\n",
    "- True Shooting Pecentage (TS%)\n",
    "- Player Efficiency Rating (PER)\n",
    "\n",
    "\n",
    "**Analysis & Visualization Techniques:**\n",
    "\n",
    "- Boxplots to show salary distributions\n",
    "- Correlation heatmaps"
   ]
  },
  {
   "cell_type": "code",
   "execution_count": 1,
   "metadata": {
    "slideshow": {
     "slide_type": "skip"
    }
   },
   "outputs": [],
   "source": [
    "import pandas as pd\n",
    "import numpy as np\n",
    "import scipy.stats as st\n",
    "import seaborn as sns\n",
    "import matplotlib.pyplot as plt"
   ]
  },
  {
   "cell_type": "code",
   "execution_count": 2,
   "metadata": {
    "slideshow": {
     "slide_type": "skip"
    }
   },
   "outputs": [],
   "source": [
    "stats_path = \"data/stats.csv\"\n",
    "salaries_path = \"data/salaries.csv\"\n",
    "\n",
    "stats_original_df = pd.read_csv(stats_path, low_memory=False)\n",
    "salaries_original_df = pd.read_csv(salaries_path, low_memory=False)"
   ]
  },
  {
   "cell_type": "markdown",
   "metadata": {
    "slideshow": {
     "slide_type": "skip"
    }
   },
   "source": [
    "### Cleaning and Parsing the Data"
   ]
  },
  {
   "cell_type": "code",
   "execution_count": 3,
   "metadata": {
    "slideshow": {
     "slide_type": "skip"
    }
   },
   "outputs": [],
   "source": [
    "# salaries_original_df.dropna().to_csv(\"data/salaries.csv\")"
   ]
  },
  {
   "cell_type": "code",
   "execution_count": 4,
   "metadata": {
    "slideshow": {
     "slide_type": "skip"
    }
   },
   "outputs": [
    {
     "data": {
      "text/html": [
       "<div>\n",
       "<style scoped>\n",
       "    .dataframe tbody tr th:only-of-type {\n",
       "        vertical-align: middle;\n",
       "    }\n",
       "\n",
       "    .dataframe tbody tr th {\n",
       "        vertical-align: top;\n",
       "    }\n",
       "\n",
       "    .dataframe thead th {\n",
       "        text-align: right;\n",
       "    }\n",
       "</style>\n",
       "<table border=\"1\" class=\"dataframe\">\n",
       "  <thead>\n",
       "    <tr style=\"text-align: right;\">\n",
       "      <th></th>\n",
       "      <th>player</th>\n",
       "      <th>salary</th>\n",
       "      <th>season_start</th>\n",
       "      <th>season_end</th>\n",
       "      <th>team</th>\n",
       "    </tr>\n",
       "  </thead>\n",
       "  <tbody>\n",
       "    <tr>\n",
       "      <th>0</th>\n",
       "      <td>A.J. Hammons</td>\n",
       "      <td>$650,000.00</td>\n",
       "      <td>2016.0</td>\n",
       "      <td>2017.0</td>\n",
       "      <td>DAL</td>\n",
       "    </tr>\n",
       "    <tr>\n",
       "      <th>1</th>\n",
       "      <td>A.J. Hammons</td>\n",
       "      <td>$1,312,611.00</td>\n",
       "      <td>2017.0</td>\n",
       "      <td>2018.0</td>\n",
       "      <td>MIA</td>\n",
       "    </tr>\n",
       "    <tr>\n",
       "      <th>2</th>\n",
       "      <td>A.J. Price</td>\n",
       "      <td>$457,588.00</td>\n",
       "      <td>2009.0</td>\n",
       "      <td>2010.0</td>\n",
       "      <td>IND</td>\n",
       "    </tr>\n",
       "    <tr>\n",
       "      <th>3</th>\n",
       "      <td>A.J. Price</td>\n",
       "      <td>$762,195.00</td>\n",
       "      <td>2010.0</td>\n",
       "      <td>2011.0</td>\n",
       "      <td>IND</td>\n",
       "    </tr>\n",
       "    <tr>\n",
       "      <th>4</th>\n",
       "      <td>A.J. Price</td>\n",
       "      <td>$854,389.00</td>\n",
       "      <td>2011.0</td>\n",
       "      <td>2012.0</td>\n",
       "      <td>IND</td>\n",
       "    </tr>\n",
       "    <tr>\n",
       "      <th>...</th>\n",
       "      <td>...</td>\n",
       "      <td>...</td>\n",
       "      <td>...</td>\n",
       "      <td>...</td>\n",
       "      <td>...</td>\n",
       "    </tr>\n",
       "    <tr>\n",
       "      <th>5174</th>\n",
       "      <td>Zoran Dragic</td>\n",
       "      <td>$1,962,103.00</td>\n",
       "      <td>2014.0</td>\n",
       "      <td>2015.0</td>\n",
       "      <td>MIA</td>\n",
       "    </tr>\n",
       "    <tr>\n",
       "      <th>5175</th>\n",
       "      <td>Zoran Dragic</td>\n",
       "      <td>$2,050,397.00</td>\n",
       "      <td>2015.0</td>\n",
       "      <td>2016.0</td>\n",
       "      <td>BOS</td>\n",
       "    </tr>\n",
       "    <tr>\n",
       "      <th>5176</th>\n",
       "      <td>Zydrunas Ilgauskas</td>\n",
       "      <td>$10,142,156.00</td>\n",
       "      <td>2007.0</td>\n",
       "      <td>2008.0</td>\n",
       "      <td>CLE</td>\n",
       "    </tr>\n",
       "    <tr>\n",
       "      <th>5177</th>\n",
       "      <td>Zydrunas Ilgauskas</td>\n",
       "      <td>$10,841,615.00</td>\n",
       "      <td>2008.0</td>\n",
       "      <td>2009.0</td>\n",
       "      <td>CLE</td>\n",
       "    </tr>\n",
       "    <tr>\n",
       "      <th>5178</th>\n",
       "      <td>Zydrunas Ilgauskas</td>\n",
       "      <td>$11,541,074.00</td>\n",
       "      <td>2009.0</td>\n",
       "      <td>2010.0</td>\n",
       "      <td>WAS</td>\n",
       "    </tr>\n",
       "  </tbody>\n",
       "</table>\n",
       "<p>5179 rows × 5 columns</p>\n",
       "</div>"
      ],
      "text/plain": [
       "                  player            salary  season_start  season_end team\n",
       "0           A.J. Hammons      $650,000.00         2016.0      2017.0  DAL\n",
       "1           A.J. Hammons    $1,312,611.00         2017.0      2018.0  MIA\n",
       "2             A.J. Price      $457,588.00         2009.0      2010.0  IND\n",
       "3             A.J. Price      $762,195.00         2010.0      2011.0  IND\n",
       "4             A.J. Price      $854,389.00         2011.0      2012.0  IND\n",
       "...                  ...               ...           ...         ...  ...\n",
       "5174        Zoran Dragic    $1,962,103.00         2014.0      2015.0  MIA\n",
       "5175        Zoran Dragic    $2,050,397.00         2015.0      2016.0  BOS\n",
       "5176  Zydrunas Ilgauskas   $10,142,156.00         2007.0      2008.0  CLE\n",
       "5177  Zydrunas Ilgauskas   $10,841,615.00         2008.0      2009.0  CLE\n",
       "5178  Zydrunas Ilgauskas   $11,541,074.00         2009.0      2010.0  WAS\n",
       "\n",
       "[5179 rows x 5 columns]"
      ]
     },
     "execution_count": 4,
     "metadata": {},
     "output_type": "execute_result"
    }
   ],
   "source": [
    "stats_df = stats_original_df[['year', 'player', 'pos', 'team', 'PTS', 'BLK', 'AST', 'TOV', 'STL', 'TS%', 'PER']]\n",
    "\n",
    "salaries_df = salaries_original_df[['name', ' Salary in $ ', 'season_start', 'season_end', 'team']]\n",
    "salaries_df = salaries_df.rename(columns={' Salary in $ ': 'salary', 'name': 'player'})\n",
    "salaries_df"
   ]
  },
  {
   "cell_type": "code",
   "execution_count": 5,
   "metadata": {
    "slideshow": {
     "slide_type": "skip"
    }
   },
   "outputs": [],
   "source": [
    "salaries_df['salary'] = salaries_df['salary'].str.strip().replace({'\\$': '', ',': ''}, regex=True).astype(float)"
   ]
  },
  {
   "cell_type": "code",
   "execution_count": 6,
   "metadata": {
    "slideshow": {
     "slide_type": "skip"
    }
   },
   "outputs": [],
   "source": [
    "stats_df = stats_df.dropna().drop_duplicates()\n",
    "salaries_df = salaries_df.dropna().drop_duplicates()"
   ]
  },
  {
   "cell_type": "code",
   "execution_count": 7,
   "metadata": {
    "slideshow": {
     "slide_type": "skip"
    }
   },
   "outputs": [],
   "source": [
    "players = stats_df['player'].unique()\n",
    "salaries_df = salaries_df.loc[salaries_df['player'].isin(players)]"
   ]
  },
  {
   "cell_type": "code",
   "execution_count": 8,
   "metadata": {
    "slideshow": {
     "slide_type": "skip"
    }
   },
   "outputs": [
    {
     "data": {
      "text/html": [
       "<div>\n",
       "<style scoped>\n",
       "    .dataframe tbody tr th:only-of-type {\n",
       "        vertical-align: middle;\n",
       "    }\n",
       "\n",
       "    .dataframe tbody tr th {\n",
       "        vertical-align: top;\n",
       "    }\n",
       "\n",
       "    .dataframe thead th {\n",
       "        text-align: right;\n",
       "    }\n",
       "</style>\n",
       "<table border=\"1\" class=\"dataframe\">\n",
       "  <thead>\n",
       "    <tr style=\"text-align: right;\">\n",
       "      <th></th>\n",
       "      <th>year</th>\n",
       "      <th>player</th>\n",
       "      <th>pos</th>\n",
       "      <th>team</th>\n",
       "      <th>PTS</th>\n",
       "      <th>BLK</th>\n",
       "      <th>AST</th>\n",
       "      <th>TOV</th>\n",
       "      <th>STL</th>\n",
       "      <th>TS%</th>\n",
       "      <th>PER</th>\n",
       "    </tr>\n",
       "  </thead>\n",
       "  <tbody>\n",
       "    <tr>\n",
       "      <th>0</th>\n",
       "      <td>2007</td>\n",
       "      <td>Shareef Abdur-Rahim</td>\n",
       "      <td>C</td>\n",
       "      <td>SAC</td>\n",
       "      <td>793</td>\n",
       "      <td>40</td>\n",
       "      <td>109</td>\n",
       "      <td>116</td>\n",
       "      <td>53</td>\n",
       "      <td>0.524</td>\n",
       "      <td>13.1</td>\n",
       "    </tr>\n",
       "    <tr>\n",
       "      <th>1</th>\n",
       "      <td>2007</td>\n",
       "      <td>Hassan Adams</td>\n",
       "      <td>SG</td>\n",
       "      <td>NJN</td>\n",
       "      <td>174</td>\n",
       "      <td>4</td>\n",
       "      <td>13</td>\n",
       "      <td>22</td>\n",
       "      <td>17</td>\n",
       "      <td>0.577</td>\n",
       "      <td>13.0</td>\n",
       "    </tr>\n",
       "    <tr>\n",
       "      <th>2</th>\n",
       "      <td>2007</td>\n",
       "      <td>Maurice Ager</td>\n",
       "      <td>SG</td>\n",
       "      <td>DAL</td>\n",
       "      <td>69</td>\n",
       "      <td>3</td>\n",
       "      <td>7</td>\n",
       "      <td>15</td>\n",
       "      <td>4</td>\n",
       "      <td>0.408</td>\n",
       "      <td>2.9</td>\n",
       "    </tr>\n",
       "    <tr>\n",
       "      <th>3</th>\n",
       "      <td>2007</td>\n",
       "      <td>LaMarcus Aldridge</td>\n",
       "      <td>C</td>\n",
       "      <td>POR</td>\n",
       "      <td>565</td>\n",
       "      <td>73</td>\n",
       "      <td>24</td>\n",
       "      <td>43</td>\n",
       "      <td>22</td>\n",
       "      <td>0.533</td>\n",
       "      <td>17.1</td>\n",
       "    </tr>\n",
       "    <tr>\n",
       "      <th>4</th>\n",
       "      <td>2007</td>\n",
       "      <td>Malik Allen</td>\n",
       "      <td>PF</td>\n",
       "      <td>CHI</td>\n",
       "      <td>242</td>\n",
       "      <td>16</td>\n",
       "      <td>16</td>\n",
       "      <td>21</td>\n",
       "      <td>17</td>\n",
       "      <td>0.443</td>\n",
       "      <td>10.4</td>\n",
       "    </tr>\n",
       "  </tbody>\n",
       "</table>\n",
       "</div>"
      ],
      "text/plain": [
       "   year               player pos team  PTS  BLK  AST  TOV  STL    TS%   PER\n",
       "0  2007  Shareef Abdur-Rahim   C  SAC  793   40  109  116   53  0.524  13.1\n",
       "1  2007         Hassan Adams  SG  NJN  174    4   13   22   17  0.577  13.0\n",
       "2  2007         Maurice Ager  SG  DAL   69    3    7   15    4  0.408   2.9\n",
       "3  2007    LaMarcus Aldridge   C  POR  565   73   24   43   22  0.533  17.1\n",
       "4  2007          Malik Allen  PF  CHI  242   16   16   21   17  0.443  10.4"
      ]
     },
     "execution_count": 8,
     "metadata": {},
     "output_type": "execute_result"
    }
   ],
   "source": [
    "stats_df.head()"
   ]
  },
  {
   "cell_type": "code",
   "execution_count": 9,
   "metadata": {
    "slideshow": {
     "slide_type": "skip"
    }
   },
   "outputs": [
    {
     "data": {
      "text/html": [
       "<div>\n",
       "<style scoped>\n",
       "    .dataframe tbody tr th:only-of-type {\n",
       "        vertical-align: middle;\n",
       "    }\n",
       "\n",
       "    .dataframe tbody tr th {\n",
       "        vertical-align: top;\n",
       "    }\n",
       "\n",
       "    .dataframe thead th {\n",
       "        text-align: right;\n",
       "    }\n",
       "</style>\n",
       "<table border=\"1\" class=\"dataframe\">\n",
       "  <thead>\n",
       "    <tr style=\"text-align: right;\">\n",
       "      <th></th>\n",
       "      <th>player</th>\n",
       "      <th>salary</th>\n",
       "      <th>season_start</th>\n",
       "      <th>season_end</th>\n",
       "      <th>team</th>\n",
       "    </tr>\n",
       "  </thead>\n",
       "  <tbody>\n",
       "    <tr>\n",
       "      <th>0</th>\n",
       "      <td>A.J. Hammons</td>\n",
       "      <td>650000.0</td>\n",
       "      <td>2016.0</td>\n",
       "      <td>2017.0</td>\n",
       "      <td>DAL</td>\n",
       "    </tr>\n",
       "    <tr>\n",
       "      <th>1</th>\n",
       "      <td>A.J. Hammons</td>\n",
       "      <td>1312611.0</td>\n",
       "      <td>2017.0</td>\n",
       "      <td>2018.0</td>\n",
       "      <td>MIA</td>\n",
       "    </tr>\n",
       "    <tr>\n",
       "      <th>2</th>\n",
       "      <td>A.J. Price</td>\n",
       "      <td>457588.0</td>\n",
       "      <td>2009.0</td>\n",
       "      <td>2010.0</td>\n",
       "      <td>IND</td>\n",
       "    </tr>\n",
       "    <tr>\n",
       "      <th>3</th>\n",
       "      <td>A.J. Price</td>\n",
       "      <td>762195.0</td>\n",
       "      <td>2010.0</td>\n",
       "      <td>2011.0</td>\n",
       "      <td>IND</td>\n",
       "    </tr>\n",
       "    <tr>\n",
       "      <th>4</th>\n",
       "      <td>A.J. Price</td>\n",
       "      <td>854389.0</td>\n",
       "      <td>2011.0</td>\n",
       "      <td>2012.0</td>\n",
       "      <td>IND</td>\n",
       "    </tr>\n",
       "  </tbody>\n",
       "</table>\n",
       "</div>"
      ],
      "text/plain": [
       "         player     salary  season_start  season_end team\n",
       "0  A.J. Hammons   650000.0        2016.0      2017.0  DAL\n",
       "1  A.J. Hammons  1312611.0        2017.0      2018.0  MIA\n",
       "2    A.J. Price   457588.0        2009.0      2010.0  IND\n",
       "3    A.J. Price   762195.0        2010.0      2011.0  IND\n",
       "4    A.J. Price   854389.0        2011.0      2012.0  IND"
      ]
     },
     "execution_count": 9,
     "metadata": {},
     "output_type": "execute_result"
    }
   ],
   "source": [
    "salaries_df.head()"
   ]
  },
  {
   "cell_type": "markdown",
   "metadata": {
    "slideshow": {
     "slide_type": "skip"
    }
   },
   "source": [
    "### Merging the dataframes"
   ]
  },
  {
   "cell_type": "code",
   "execution_count": 10,
   "metadata": {
    "slideshow": {
     "slide_type": "skip"
    }
   },
   "outputs": [
    {
     "data": {
      "text/html": [
       "<div>\n",
       "<style scoped>\n",
       "    .dataframe tbody tr th:only-of-type {\n",
       "        vertical-align: middle;\n",
       "    }\n",
       "\n",
       "    .dataframe tbody tr th {\n",
       "        vertical-align: top;\n",
       "    }\n",
       "\n",
       "    .dataframe thead th {\n",
       "        text-align: right;\n",
       "    }\n",
       "</style>\n",
       "<table border=\"1\" class=\"dataframe\">\n",
       "  <thead>\n",
       "    <tr style=\"text-align: right;\">\n",
       "      <th></th>\n",
       "      <th>player</th>\n",
       "      <th>pos</th>\n",
       "      <th>team</th>\n",
       "      <th>PTS</th>\n",
       "      <th>BLK</th>\n",
       "      <th>AST</th>\n",
       "      <th>TOV</th>\n",
       "      <th>STL</th>\n",
       "      <th>TS%</th>\n",
       "      <th>PER</th>\n",
       "      <th>salary</th>\n",
       "    </tr>\n",
       "  </thead>\n",
       "  <tbody>\n",
       "    <tr>\n",
       "      <th>0</th>\n",
       "      <td>Arron Afflalo</td>\n",
       "      <td>SG</td>\n",
       "      <td>DET</td>\n",
       "      <td>276</td>\n",
       "      <td>8</td>\n",
       "      <td>52</td>\n",
       "      <td>34</td>\n",
       "      <td>31</td>\n",
       "      <td>0.494</td>\n",
       "      <td>10.2</td>\n",
       "      <td>944520.0</td>\n",
       "    </tr>\n",
       "    <tr>\n",
       "      <th>238</th>\n",
       "      <td>Bo Outlaw</td>\n",
       "      <td>PF</td>\n",
       "      <td>ORL</td>\n",
       "      <td>4</td>\n",
       "      <td>0</td>\n",
       "      <td>0</td>\n",
       "      <td>1</td>\n",
       "      <td>0</td>\n",
       "      <td>0.667</td>\n",
       "      <td>8.6</td>\n",
       "      <td>160071.0</td>\n",
       "    </tr>\n",
       "    <tr>\n",
       "      <th>237</th>\n",
       "      <td>Mehmet Okur</td>\n",
       "      <td>C</td>\n",
       "      <td>UTA</td>\n",
       "      <td>1047</td>\n",
       "      <td>29</td>\n",
       "      <td>145</td>\n",
       "      <td>104</td>\n",
       "      <td>55</td>\n",
       "      <td>0.556</td>\n",
       "      <td>15.2</td>\n",
       "      <td>8500000.0</td>\n",
       "    </tr>\n",
       "    <tr>\n",
       "      <th>236</th>\n",
       "      <td>Lamar Odom</td>\n",
       "      <td>PF</td>\n",
       "      <td>LAL</td>\n",
       "      <td>1094</td>\n",
       "      <td>72</td>\n",
       "      <td>273</td>\n",
       "      <td>156</td>\n",
       "      <td>75</td>\n",
       "      <td>0.582</td>\n",
       "      <td>16.9</td>\n",
       "      <td>13248596.0</td>\n",
       "    </tr>\n",
       "    <tr>\n",
       "      <th>235</th>\n",
       "      <td>Fabricio Oberto</td>\n",
       "      <td>PF</td>\n",
       "      <td>SAS</td>\n",
       "      <td>397</td>\n",
       "      <td>20</td>\n",
       "      <td>95</td>\n",
       "      <td>51</td>\n",
       "      <td>37</td>\n",
       "      <td>0.615</td>\n",
       "      <td>13.8</td>\n",
       "      <td>3600000.0</td>\n",
       "    </tr>\n",
       "  </tbody>\n",
       "</table>\n",
       "</div>"
      ],
      "text/plain": [
       "              player pos team   PTS  BLK  AST  TOV  STL    TS%   PER  \\\n",
       "0      Arron Afflalo  SG  DET   276    8   52   34   31  0.494  10.2   \n",
       "238        Bo Outlaw  PF  ORL     4    0    0    1    0  0.667   8.6   \n",
       "237      Mehmet Okur   C  UTA  1047   29  145  104   55  0.556  15.2   \n",
       "236       Lamar Odom  PF  LAL  1094   72  273  156   75  0.582  16.9   \n",
       "235  Fabricio Oberto  PF  SAS   397   20   95   51   37  0.615  13.8   \n",
       "\n",
       "         salary  \n",
       "0      944520.0  \n",
       "238    160071.0  \n",
       "237   8500000.0  \n",
       "236  13248596.0  \n",
       "235   3600000.0  "
      ]
     },
     "execution_count": 10,
     "metadata": {},
     "output_type": "execute_result"
    }
   ],
   "source": [
    "stats_and_salaries_df = stats_df.merge(salaries_df.rename(columns={'season_end': 'year'}), on=['player', 'year', 'team'])\n",
    "stats_and_salaries_df = stats_and_salaries_df.dropna()\n",
    "\n",
    "stats_and_salaries_df = stats_and_salaries_df.sort_values(by='year')\n",
    "stats_and_salaries_df = stats_and_salaries_df[['player', 'pos', 'team', 'PTS', 'BLK', 'AST', 'TOV', 'STL', 'TS%', 'PER', 'salary']]\n",
    "\n",
    "stats_and_salaries_df.head()"
   ]
  },
  {
   "cell_type": "markdown",
   "metadata": {
    "slideshow": {
     "slide_type": "skip"
    }
   },
   "source": [
    "### A Feel for NBA Player Salaries"
   ]
  },
  {
   "cell_type": "code",
   "execution_count": 11,
   "metadata": {
    "slideshow": {
     "slide_type": "skip"
    }
   },
   "outputs": [
    {
     "data": {
      "text/plain": [
       "(                salary\n",
       " season_end            \n",
       " 2008.0      19728000.0\n",
       " 2009.0      24751934.0\n",
       " 2010.0      23239562.0\n",
       " 2011.0      24806250.0\n",
       " 2012.0      25244493.0\n",
       " 2013.0      27849149.0\n",
       " 2014.0      30453805.0\n",
       " 2015.0      23500000.0\n",
       " 2016.0      25000000.0\n",
       " 2017.0      30963450.0\n",
       " 2018.0      34682550.0,\n",
       "               salary\n",
       " season_end          \n",
       " 2008.0       12890.0\n",
       " 2009.0       26007.0\n",
       " 2010.0       26917.0\n",
       " 2011.0       27859.0\n",
       " 2012.0       38172.0\n",
       " 2013.0       23852.0\n",
       " 2014.0      100000.0\n",
       " 2015.0       19914.0\n",
       " 2016.0        8819.0\n",
       " 2017.0        5145.0\n",
       " 2018.0       17224.0)"
      ]
     },
     "execution_count": 11,
     "metadata": {},
     "output_type": "execute_result"
    }
   ],
   "source": [
    "salaries_groupby_year = salaries_df.groupby('season_end')\n",
    "max_salaries_by_year = salaries_groupby_year.agg({'salary': 'max'})\n",
    "min_salaries_by_year = salaries_groupby_year.agg({'salary': 'min'})\n",
    "max_salaries_by_year, min_salaries_by_year"
   ]
  },
  {
   "cell_type": "code",
   "execution_count": 12,
   "metadata": {
    "slideshow": {
     "slide_type": "skip"
    }
   },
   "outputs": [
    {
     "data": {
      "image/png": "[encoded data removed]",
      "text/plain": [
       "<Figure size 432x576 with 1 Axes>"
      ]
     },
     "metadata": {
      "needs_background": "light"
     },
     "output_type": "display_data"
    }
   ],
   "source": [
    "plt.figure(figsize=(6, 8))\n",
    "plt.boxplot(max_salaries_by_year, labels=['Salaries'])\n",
    "plt.show()"
   ]
  },
  {
   "cell_type": "code",
   "execution_count": 13,
   "metadata": {
    "slideshow": {
     "slide_type": "skip"
    }
   },
   "outputs": [
    {
     "data": {
      "image/png": "[encoded data removed]",
      "text/plain": [
       "<Figure size 720x1440 with 30 Axes>"
      ]
     },
     "metadata": {
      "needs_background": "light"
     },
     "output_type": "display_data"
    }
   ],
   "source": [
    "salaries_df_groupby_team = salaries_df[['salary', 'team']].groupby('team')\n",
    "salaries_df_groupby_team.boxplot(fontsize=12, figsize=(10, 20))\n",
    "plt.tight_layout()"
   ]
  },
  {
   "cell_type": "markdown",
   "metadata": {
    "slideshow": {
     "slide_type": "skip"
    }
   },
   "source": [
    "### Looking for correlations"
   ]
  },
  {
   "cell_type": "code",
   "execution_count": 14,
   "metadata": {
    "slideshow": {
     "slide_type": "skip"
    }
   },
   "outputs": [],
   "source": [
    "stats_and_salaries_df_groupby_player_team = stats_and_salaries_df.groupby(['player', 'team'])\n",
    "stats_and_salaries_df_groupby_player_pos = stats_and_salaries_df.groupby(['player', 'pos'])\n",
    "stats_and_salaries_df_groupby_player = stats_and_salaries_df.groupby(['player'])"
   ]
  },
  {
   "cell_type": "code",
   "execution_count": 15,
   "metadata": {
    "slideshow": {
     "slide_type": "skip"
    }
   },
   "outputs": [],
   "source": [
    "average_player_team = stats_and_salaries_df_groupby_player_team.mean()\n",
    "average_player_pos = stats_and_salaries_df_groupby_player_pos.mean()\n",
    "average_player = stats_and_salaries_df_groupby_player.mean()"
   ]
  },
  {
   "cell_type": "markdown",
   "metadata": {
    "slideshow": {
     "slide_type": "slide"
    }
   },
   "source": [
    "### Correlations grouping by player and team"
   ]
  },
  {
   "cell_type": "code",
   "execution_count": 18,
   "metadata": {
    "slideshow": {
     "slide_type": "subslide"
    }
   },
   "outputs": [
    {
     "data": {
      "image/png": "[encoded data removed]",
      "text/plain": [
       "<Figure size 720x576 with 2 Axes>"
      ]
     },
     "metadata": {
      "needs_background": "light"
     },
     "output_type": "display_data"
    }
   ],
   "source": [
    "average_player_team_corr = average_player_team.corr(method='pearson')\n",
    "\n",
    "mask = np.zeros_like(average_player_team_corr)\n",
    "mask[np.triu_indices_from(mask)] = True\n",
    "\n",
    "plt.figure(figsize=(10, 8))\n",
    "sns.heatmap(average_player_team_corr, annot=True, mask=mask, square=True)\n",
    "plt.show()"
   ]
  },
  {
   "cell_type": "markdown",
   "metadata": {
    "slideshow": {
     "slide_type": "slide"
    }
   },
   "source": [
    "### Correlations grouping by player and pos"
   ]
  },
  {
   "cell_type": "code",
   "execution_count": 19,
   "metadata": {
    "slideshow": {
     "slide_type": "subslide"
    }
   },
   "outputs": [
    {
     "data": {
      "image/png": "[encoded data removed]",
      "text/plain": [
       "<Figure size 720x576 with 2 Axes>"
      ]
     },
     "metadata": {
      "needs_background": "light"
     },
     "output_type": "display_data"
    }
   ],
   "source": [
    "average_player_pos_corr = average_player_pos.corr(method='pearson')\n",
    "\n",
    "mask = np.zeros_like(average_player_pos_corr)\n",
    "mask[np.triu_indices_from(mask)] = True\n",
    "\n",
    "plt.figure(figsize=(10, 8))\n",
    "sns.heatmap(average_player_pos_corr, annot=True, mask=mask, square=True)\n",
    "plt.show()"
   ]
  },
  {
   "cell_type": "markdown",
   "metadata": {
    "slideshow": {
     "slide_type": "slide"
    }
   },
   "source": [
    "### Correlations grouping by player"
   ]
  },
  {
   "cell_type": "code",
   "execution_count": 20,
   "metadata": {
    "slideshow": {
     "slide_type": "subslide"
    }
   },
   "outputs": [
    {
     "data": {
      "image/png": "[encoded data removed]",
      "text/plain": [
       "<Figure size 720x576 with 2 Axes>"
      ]
     },
     "metadata": {
      "needs_background": "light"
     },
     "output_type": "display_data"
    }
   ],
   "source": [
    "average_player_corr = average_player.corr(method='pearson')\n",
    "\n",
    "mask = np.zeros_like(average_player_corr)\n",
    "mask[np.triu_indices_from(mask)] = True\n",
    "\n",
    "plt.figure(figsize=(10, 8))\n",
    "sns.heatmap(average_player_corr, annot=True, mask=mask, square=True)\n",
    "plt.show()"
   ]
  }
 ],
 "metadata": {
  "celltoolbar": "Slideshow",
  "kernelspec": {
   "display_name": "Python 3",
   "language": "python",
   "name": "python3"
  },
  "language_info": {
   "codemirror_mode": {
    "name": "ipython",
    "version": 3
   },
   "file_extension": ".py",
   "mimetype": "text/x-python",
   "name": "python",
   "nbconvert_exporter": "python",
   "pygments_lexer": "ipython3",
   "version": "3.8.5"
  }
 },
 "nbformat": 4,
 "nbformat_minor": 4
}
